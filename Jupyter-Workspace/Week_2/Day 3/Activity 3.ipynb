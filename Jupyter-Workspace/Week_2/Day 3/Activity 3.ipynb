{
 "cells": [
  {
   "cell_type": "code",
   "execution_count": 2,
   "id": "fc68d327-4113-4486-bc6f-8a5e3a8ea515",
   "metadata": {},
   "outputs": [
    {
     "name": "stdout",
     "output_type": "stream",
     "text": [
      "267.94617853971704, 401.91926780957544, 285.8923570794341\n"
     ]
    }
   ],
   "source": [
    "# -*- coding: utf-8 -*-\n",
    "\"\"\"Student Activity: Financial Analysis using NPV.\n",
    "\n",
    "This script will choose the optimal project scenario to\n",
    "undertake based on max NPV values.\n",
    "\"\"\"\n",
    "\n",
    "# @TODO: Import the NumPy library\n",
    "import numpy_financial as np\n",
    "np.__version__\n",
    "\n",
    "# Discount Rate\n",
    "discount_rate = .1\n",
    "\n",
    "# Initial Investment, Cash Flow 1, Cash Flow 2, Cash Flow 3, Cash Flow 4\n",
    "cash_flows_conservative = [-1000, 400, 400, 400, 400]\n",
    "cash_flows_neutral = [-1500, 600, 600, 600, 600]\n",
    "cash_flows_aggressive = [-2250, 800, 800, 800, 800]\n",
    "\n",
    "# @TODO: Initialize dictionary to hold NPV return values\n",
    "npv_dict = {}\n",
    "\n",
    "# @TODO: Calculate the NPV for each scenario\n",
    "conservative = np.npv(discount_rate, cash_flows_conservative)\n",
    "neutral = np.npv(discount_rate, cash_flows_neutral)\n",
    "agressive = np.npv(discount_rate, cash_flows_aggressive)\n",
    "print(f\"{conservative}, {neutral}, {agressive}\")\n",
    "\n",
    "# @TODO: Manually Choose the project with the highest NPV value\n"
   ]
  },
  {
   "cell_type": "code",
   "execution_count": 2,
   "id": "56940ba9-b002-4041-8056-bb2b96dc09d1",
   "metadata": {},
   "outputs": [
    {
     "name": "stderr",
     "output_type": "stream",
     "text": [
      "<ipython-input-2-366da644836d>:23: DeprecationWarning: In accordance with NEP 32, the function npv was removed from NumPy version 1.20.  A replacement for this function is available in the numpy_financial library: https://pypi.org/project/numpy-financial\n",
      "  npv_dict['conservative'] = numpy.npv(discount_rate, cash_flows_conservative)\n"
     ]
    },
    {
     "ename": "RuntimeError",
     "evalue": "In accordance with NEP 32, the function npv was removed from NumPy version 1.20.  A replacement for this function is available in the numpy_financial library: https://pypi.org/project/numpy-financial",
     "output_type": "error",
     "traceback": [
      "\u001b[1;31m---------------------------------------------------------------------------\u001b[0m",
      "\u001b[1;31mRuntimeError\u001b[0m                              Traceback (most recent call last)",
      "\u001b[1;32m<ipython-input-2-366da644836d>\u001b[0m in \u001b[0;36m<module>\u001b[1;34m\u001b[0m\n\u001b[0;32m     21\u001b[0m \u001b[1;33m\u001b[0m\u001b[0m\n\u001b[0;32m     22\u001b[0m \u001b[1;31m# Calculate the NPV for each scenario\u001b[0m\u001b[1;33m\u001b[0m\u001b[1;33m\u001b[0m\u001b[1;33m\u001b[0m\u001b[0m\n\u001b[1;32m---> 23\u001b[1;33m \u001b[0mnpv_dict\u001b[0m\u001b[1;33m[\u001b[0m\u001b[1;34m'conservative'\u001b[0m\u001b[1;33m]\u001b[0m \u001b[1;33m=\u001b[0m \u001b[0mnumpy\u001b[0m\u001b[1;33m.\u001b[0m\u001b[0mnpv\u001b[0m\u001b[1;33m(\u001b[0m\u001b[0mdiscount_rate\u001b[0m\u001b[1;33m,\u001b[0m \u001b[0mcash_flows_conservative\u001b[0m\u001b[1;33m)\u001b[0m\u001b[1;33m\u001b[0m\u001b[1;33m\u001b[0m\u001b[0m\n\u001b[0m\u001b[0;32m     24\u001b[0m \u001b[0mnpv_dict\u001b[0m\u001b[1;33m[\u001b[0m\u001b[1;34m'neutral'\u001b[0m\u001b[1;33m]\u001b[0m \u001b[1;33m=\u001b[0m \u001b[0mnumpy\u001b[0m\u001b[1;33m.\u001b[0m\u001b[0mnpv\u001b[0m\u001b[1;33m(\u001b[0m\u001b[0mdiscount_rate\u001b[0m\u001b[1;33m,\u001b[0m \u001b[0mcash_flows_neutral\u001b[0m\u001b[1;33m)\u001b[0m\u001b[1;33m\u001b[0m\u001b[1;33m\u001b[0m\u001b[0m\n\u001b[0;32m     25\u001b[0m \u001b[0mnpv_dict\u001b[0m\u001b[1;33m[\u001b[0m\u001b[1;34m'aggressive'\u001b[0m\u001b[1;33m]\u001b[0m \u001b[1;33m=\u001b[0m \u001b[0mnumpy\u001b[0m\u001b[1;33m.\u001b[0m\u001b[0mnpv\u001b[0m\u001b[1;33m(\u001b[0m\u001b[0mdiscount_rate\u001b[0m\u001b[1;33m,\u001b[0m \u001b[0mcash_flows_aggressive\u001b[0m\u001b[1;33m)\u001b[0m\u001b[1;33m\u001b[0m\u001b[1;33m\u001b[0m\u001b[0m\n",
      "\u001b[1;32m~\\anaconda3\\lib\\site-packages\\numpy\\__init__.py\u001b[0m in \u001b[0;36m_expired\u001b[1;34m(*args, **kwds)\u001b[0m\n\u001b[0;32m    275\u001b[0m \u001b[1;33m\u001b[0m\u001b[0m\n\u001b[0;32m    276\u001b[0m                 \u001b[1;32mdef\u001b[0m \u001b[0m_expired\u001b[0m\u001b[1;33m(\u001b[0m\u001b[1;33m*\u001b[0m\u001b[0margs\u001b[0m\u001b[1;33m,\u001b[0m \u001b[1;33m**\u001b[0m\u001b[0mkwds\u001b[0m\u001b[1;33m)\u001b[0m\u001b[1;33m:\u001b[0m\u001b[1;33m\u001b[0m\u001b[1;33m\u001b[0m\u001b[0m\n\u001b[1;32m--> 277\u001b[1;33m                     \u001b[1;32mraise\u001b[0m \u001b[0mRuntimeError\u001b[0m\u001b[1;33m(\u001b[0m\u001b[0mmsg\u001b[0m\u001b[1;33m)\u001b[0m\u001b[1;33m\u001b[0m\u001b[1;33m\u001b[0m\u001b[0m\n\u001b[0m\u001b[0;32m    278\u001b[0m \u001b[1;33m\u001b[0m\u001b[0m\n\u001b[0;32m    279\u001b[0m                 \u001b[1;32mreturn\u001b[0m \u001b[0m_expired\u001b[0m\u001b[1;33m\u001b[0m\u001b[1;33m\u001b[0m\u001b[0m\n",
      "\u001b[1;31mRuntimeError\u001b[0m: In accordance with NEP 32, the function npv was removed from NumPy version 1.20.  A replacement for this function is available in the numpy_financial library: https://pypi.org/project/numpy-financial"
     ]
    }
   ],
   "source": [
    "# -*- coding: utf-8 -*-\n",
    "\"\"\"Student Activity: Financial Analysis using NPV.\n",
    "\n",
    "This script will choose the optimal project scenario to\n",
    "undertake based on max NPV values.\n",
    "\"\"\"\n",
    "\n",
    "# Import the NumPy library\n",
    "import numpy\n",
    "\n",
    "# Discount Rate\n",
    "discount_rate = .1\n",
    "\n",
    "# Initial Investment, Cash Flow 1, Cash Flow 2, Cash Flow 3, Cash Flow 4\n",
    "cash_flows_conservative = [-1000, 400, 400, 400, 400]\n",
    "cash_flows_neutral = [-1500, 600, 600, 600, 600]\n",
    "cash_flows_aggressive = [-2250, 800, 800, 800, 800]\n",
    "\n",
    "# Initialize dictionary to hold NPV return values\n",
    "npv_dict = {}\n",
    "\n",
    "# Calculate the NPV for each scenario\n",
    "npv_dict['conservative'] = numpy.npv(discount_rate, cash_flows_conservative)\n",
    "npv_dict['neutral'] = numpy.npv(discount_rate, cash_flows_neutral)\n",
    "npv_dict['aggressive'] = numpy.npv(discount_rate, cash_flows_aggressive)\n",
    "\n",
    "# Manually choose the project with the highest NPV value\n",
    "print(npv_dict)\n",
    "print(f\"The optimal project scenario to undertake is 'neutral' with a NPV of {npv_dict['neutral']}\")\n"
   ]
  },
  {
   "cell_type": "code",
   "execution_count": null,
   "id": "9bc71b04-ab95-4f58-92bd-5c7c5935d4b4",
   "metadata": {},
   "outputs": [],
   "source": []
  }
 ],
 "metadata": {
  "kernelspec": {
   "display_name": "Python 3",
   "language": "python",
   "name": "python3"
  },
  "language_info": {
   "codemirror_mode": {
    "name": "ipython",
    "version": 3
   },
   "file_extension": ".py",
   "mimetype": "text/x-python",
   "name": "python",
   "nbconvert_exporter": "python",
   "pygments_lexer": "ipython3",
   "version": "3.8.5"
  }
 },
 "nbformat": 4,
 "nbformat_minor": 5
}
