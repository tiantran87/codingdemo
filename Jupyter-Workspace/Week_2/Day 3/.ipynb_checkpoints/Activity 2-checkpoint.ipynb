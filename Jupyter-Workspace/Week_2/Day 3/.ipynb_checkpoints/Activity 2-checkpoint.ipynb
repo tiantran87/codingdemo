{
 "cells": [
  {
   "cell_type": "code",
   "execution_count": 5,
   "id": "de1ab7b2-0c63-4f2b-8faf-27f60765298c",
   "metadata": {},
   "outputs": [
    {
     "name": "stdout",
     "output_type": "stream",
     "text": [
      "the bond is selling at a `premium`, do not purchase the bond\n"
     ]
    }
   ],
   "source": [
    "# -*- coding: utf-8 -*-\n",
    "\"\"\"\n",
    "Zero-Coupon Bond Valuation.\n",
    "\n",
    "This script will calculate the present value of zero-coupon bonds, compare the present value to the price of the bond, and determine the corresponding action (buy, not buy, neutral).\n",
    "\"\"\"\n",
    "\n",
    "# @TODO: Create a function to calculate present value\n",
    "def calculate_present_value(future_value, discount_rate, compounding_periods, years):\n",
    "#    PV = FV / (1 + (i/ n) ^ (n x t)).\n",
    "    bond_value = future_value / (1 + (discount_rate/compounding_periods)) ** (compounding_periods * years)\n",
    "    return bond_value\n",
    "\n",
    "\n",
    "# Intialize the zero-coupon bond parameters, assume compounding period is equal to 1\n",
    "price = 700\n",
    "future_value = 1000\n",
    "discount_rate = .1\n",
    "compounding_periods = 1\n",
    "years = 5\n",
    "\n",
    "if price < calculate_present_value(future_value, discount_rate, compounding_periods, years):\n",
    "    print(\"The bond is selling at a `discount`, purchase the bond!\")\n",
    "elif price > calculate_present_value(future_value, discount_rate, compounding_periods, years):\n",
    "    print(\"The bond is selling at a `premium`, do not purchase the bond!\")\n",
    "else:\n",
    "    print(\"The bond is selling at its fair market value, you're neutral to the decision!\")\n",
    "\n",
    "\n",
    "# @TODO: Call the calculate_present_value() function and assign to a variable\n",
    "\n",
    "\n",
    "# @TODO: Determine if the bond is worth it\n"
   ]
  },
  {
   "cell_type": "code",
   "execution_count": null,
   "id": "740e0261-c4c2-45e6-b71b-2e1e1eda7486",
   "metadata": {},
   "outputs": [],
   "source": []
  }
 ],
 "metadata": {
  "kernelspec": {
   "display_name": "Python 3",
   "language": "python",
   "name": "python3"
  },
  "language_info": {
   "codemirror_mode": {
    "name": "ipython",
    "version": 3
   },
   "file_extension": ".py",
   "mimetype": "text/x-python",
   "name": "python",
   "nbconvert_exporter": "python",
   "pygments_lexer": "ipython3",
   "version": "3.8.5"
  }
 },
 "nbformat": 4,
 "nbformat_minor": 5
}
