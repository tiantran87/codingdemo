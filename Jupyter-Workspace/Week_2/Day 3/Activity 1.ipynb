{
 "cells": [
  {
   "cell_type": "code",
   "execution_count": 12,
   "id": "b1b50031-0581-4f90-8b88-d704bd46ea54",
   "metadata": {},
   "outputs": [
    {
     "name": "stdout",
     "output_type": "stream",
     "text": [
      "Hi Tom Bell you are a Bronze member\n",
      "Hi Maggie Johnson you are a Silver member\n",
      "Hi John Spectre you are a gold member\n",
      "Hi Susy Simmons you are a Platinum member\n"
     ]
    }
   ],
   "source": [
    "#Variable:\n",
    "\n",
    "#Platinum = 3001+\n",
    "#Gold = 2001–3000\n",
    "#Silver = 1001–2000\n",
    "#Bronze = 0–1000\n",
    "\n",
    "customers = [\n",
    "    { \"first_name\": \"Tom\", \"last_name\": \"Bell\", \"revenue\": 0 },\n",
    "    { \"first_name\": \"Maggie\", \"last_name\": \"Johnson\", \"revenue\": 1032 },\n",
    "    { \"first_name\": \"John\", \"last_name\": \"Spectre\", \"revenue\": 2543 },\n",
    "    { \"first_name\": \"Susy\", \"last_name\": \"Simmons\", \"revenue\": 5322 }\n",
    "]\n",
    "\n",
    "def create_greeting(first_name, last_name, rev):\n",
    "    # @TODO: YOUR CODE HERE!\n",
    "    if rev <= 1000:\n",
    "        greeting = f\"Hi {first_name} {last_name} you are a Bronze member\"\n",
    "    elif (rev <= 2000 and rev > 1001):\n",
    "        greeting = f\"Hi {first_name} {last_name} you are a Silver member\"\n",
    "    elif (rev <= 3000 and rev > 1001):\n",
    "        greeting = f\"Hi {first_name} {last_name} you are a gold member\"\n",
    "    else:\n",
    "        greeting = f\"Hi {first_name} {last_name} you are a Platinum member\"\n",
    "    return greeting\n",
    "\n",
    "for name in customers:\n",
    "    greet = create_greeting(name['first_name'], name['last_name'], name['revenue'])\n",
    "    print(greet)\n"
   ]
  },
  {
   "cell_type": "code",
   "execution_count": null,
   "id": "17a4b1fb-b393-4c76-9d7f-6a14be5bc78d",
   "metadata": {},
   "outputs": [],
   "source": []
  }
 ],
 "metadata": {
  "kernelspec": {
   "display_name": "Python 3",
   "language": "python",
   "name": "python3"
  },
  "language_info": {
   "codemirror_mode": {
    "name": "ipython",
    "version": 3
   },
   "file_extension": ".py",
   "mimetype": "text/x-python",
   "name": "python",
   "nbconvert_exporter": "python",
   "pygments_lexer": "ipython3",
   "version": "3.8.5"
  }
 },
 "nbformat": 4,
 "nbformat_minor": 5
}
