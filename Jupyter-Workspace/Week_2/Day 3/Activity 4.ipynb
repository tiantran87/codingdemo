{
 "cells": [
  {
   "cell_type": "code",
   "execution_count": 19,
   "id": "a0bf4219-eb48-4d7b-85d9-7578b680c185",
   "metadata": {},
   "outputs": [
    {
     "name": "stdout",
     "output_type": "stream",
     "text": [
      "Current Working Directory: C:\\Users\\tuana\\codingdemo\\Jupyter-Workspace\\Week_2\\Day 3\n",
      "Total customer 4945 in 100 days\n",
      "Average number of customer 49.45 per days\n"
     ]
    }
   ],
   "source": [
    "# -*- coding: utf-8 -*-\n",
    "\"\"\"Student Do: E-Commerce Traffic.\n",
    "\n",
    "This script will parse through a text file and sum the total\n",
    "number of customers and the count of days in the text file to\n",
    "calculate the daily average of customer traffic for an e-commerce\n",
    "business.\"\"\"\n",
    "\n",
    "# @TODO: From the pathlib library, import the main class Path\n",
    "\n",
    "from pathlib import Path\n",
    "# @TODO: Check the current directory where the Python program is executing from\n",
    "print(f\"Current Working Directory: {Path.cwd()}\")\n",
    "# @TODO: Set the path using Pathlib\n",
    "filepath = Path(\"Resources\\customer_traffic.txt\")\n",
    "# Initialize variables\n",
    "customer_total = 0\n",
    "day_count = 0\n",
    "\n",
    "# @TODO: Open the file in \"read\" mode ('r') and store the contents in the variable 'file'\n",
    "with open(filepath, 'r') as file:\n",
    "    # @TODO: Parse the file line by line\n",
    "    for line in file:\n",
    "        # @TODO: Convert the number in the text file from string to int (allows for numerical calculations)\n",
    "        num = int(line)\n",
    "        # @TODO: Sum the total and count of the numbers in the text file\n",
    "        customer_total += num\n",
    "        day_count += 1\n",
    "# @TODO: Print out customer_total and day_count        \n",
    "print(f\"Total customer {customer_total} in {day_count} days\")\n",
    "\n",
    "avg = customer_total/day_count\n",
    "# @TODO: Calculate the average\n",
    "print(f\"Average number of customer {avg} per days\")\n",
    "\n",
    "# @TODO: Set output file name\n",
    "out_path = \"output.txt\" \n",
    "\n",
    "# @TODO: Open the output path as a file object\n",
    "with open(out_path, 'w') as file:\n",
    "    # @TODO: Write daily_average to the output file, convert to string\n",
    "    file.write(f\"Total customer {customer_total} in {day_count} days\\n\")\n",
    "    file.write(f\"Average number of customer {avg} per days\")"
   ]
  },
  {
   "cell_type": "code",
   "execution_count": null,
   "id": "038b2faf-d04e-4344-b521-91a7cdd9065e",
   "metadata": {},
   "outputs": [],
   "source": []
  }
 ],
 "metadata": {
  "kernelspec": {
   "display_name": "Python 3",
   "language": "python",
   "name": "python3"
  },
  "language_info": {
   "codemirror_mode": {
    "name": "ipython",
    "version": 3
   },
   "file_extension": ".py",
   "mimetype": "text/x-python",
   "name": "python",
   "nbconvert_exporter": "python",
   "pygments_lexer": "ipython3",
   "version": "3.8.5"
  }
 },
 "nbformat": 4,
 "nbformat_minor": 5
}
