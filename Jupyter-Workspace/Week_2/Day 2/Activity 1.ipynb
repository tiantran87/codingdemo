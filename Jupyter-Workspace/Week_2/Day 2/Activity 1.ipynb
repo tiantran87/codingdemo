{
 "cells": [
  {
   "cell_type": "code",
   "execution_count": 18,
   "id": "2555d33b-2463-47a9-a43f-186a06684012",
   "metadata": {},
   "outputs": [
    {
     "name": "stdout",
     "output_type": "stream",
     "text": [
      "The first two items on Mike's grocery list:\n",
      "['Water', 'Butter']\n",
      "Find the last five items on Mike's grocery list\n",
      "['Eggs', 'Apples', 'Cinamon', 'Sugar', 'Milk']\n",
      "Find _every other_ item, starting from the second item, on Mike's grocery list\n",
      "['Butter', 'Apples', 'Sugar']\n",
      "Add `flour` to the grocery list\n",
      "['Water', 'Butter', 'Eggs', 'Apples', 'Cinamon', 'Sugar', 'Milk', 'Flour']\n",
      "Change `apples` to `gala apples`. (Mike decides to be more specific with the type of apples needed.)\n",
      "['Water', 'Butter', 'Eggs', 'Gala Apples', 'Cinamon', 'Sugar', 'Milk', 'Flour']\n",
      "Determine the total number of items on the grocery list\n",
      "8\n"
     ]
    }
   ],
   "source": [
    "# Creating list\n",
    "grocery=[\"Water\",\"Butter\",\"Eggs\",\"Apples\",\"Cinamon\",\"Sugar\",\"Milk\"]\n",
    "\n",
    "# Find the first two items on Mike's grocery list\n",
    "print(\"The first two items on Mike's grocery list:\")\n",
    "print(grocery[0:2])\n",
    "\n",
    "#Find the last five items on Mike's grocery list\n",
    "print(\"Find the last five items on Mike's grocery list\")\n",
    "print(grocery[-5:])\n",
    "\n",
    "#Find _every other_ item, starting from the second item, on Mike's grocery list.\n",
    "Find_every_other_item=grocery[1::2]\n",
    "print(\"Find _every other_ item, starting from the second item, on Mike's grocery list\")\n",
    "print(Find_every_other_item)\n",
    "\n",
    "#Add `flour` to the grocery list\n",
    "print(\"Add `flour` to the grocery list\")\n",
    "grocery.append(\"Flour\")\n",
    "print(grocery)\n",
    "\n",
    "#Change `apples` to `gala apples`. (Mike decides to be more specific with the type of apples needed.)\n",
    "print(\"Change `apples` to `gala apples`. (Mike decides to be more specific with the type of apples needed.)\")\n",
    "grocery[3]=\"Gala Apples\"\n",
    "print(grocery)\n",
    "\n",
    "# Determine the total number of items on the grocery list.\n",
    "print(\"Determine the total number of items on the grocery list\")\n",
    "print(len(grocery))"
   ]
  },
  {
   "cell_type": "code",
   "execution_count": null,
   "id": "b1b50031-0581-4f90-8b88-d704bd46ea54",
   "metadata": {},
   "outputs": [],
   "source": []
  }
 ],
 "metadata": {
  "kernelspec": {
   "display_name": "Python 3",
   "language": "python",
   "name": "python3"
  },
  "language_info": {
   "codemirror_mode": {
    "name": "ipython",
    "version": 3
   },
   "file_extension": ".py",
   "mimetype": "text/x-python",
   "name": "python",
   "nbconvert_exporter": "python",
   "pygments_lexer": "ipython3",
   "version": "3.8.5"
  }
 },
 "nbformat": 4,
 "nbformat_minor": 5
}
