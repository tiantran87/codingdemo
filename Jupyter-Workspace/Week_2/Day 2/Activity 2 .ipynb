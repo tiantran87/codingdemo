{
 "cells": [
  {
   "cell_type": "code",
   "execution_count": 29,
   "id": "b1dfed5d-2202-43eb-9842-36e85f91a13b",
   "metadata": {},
   "outputs": [
    {
     "name": "stdout",
     "output_type": "stream",
     "text": [
      "Total profits and losses: 1139\n",
      "\n",
      "Number of total trading days: 20\n",
      "\n",
      "Daily average profit and loss: 56.95\n",
      "\n",
      "Best gain: 613\n",
      "\n",
      "Worst lost: -650\n",
      "\n",
      "Profit days: 13\n",
      "\n",
      "Unprofitable days: 7\n",
      "\n",
      "List of profit: [352, 252, 354, 56, 123, 254, 325, 47, 321, 123, 133, 613, 232]\n",
      "\n",
      "List of unprofit: [-224, -544, -650, -43, -123, -151, -311]\n",
      "\n"
     ]
    }
   ],
   "source": [
    "trading_pnl = [ -224,  352, 252, 354, -544,\n",
    "                -650,   56, 123, -43,  254,\n",
    "                 325, -123,  47, 321,  123,\n",
    "                 133, -151, 613, 232, -311 ]\n",
    "#  Create a for loop over the `trading_pnl` list object, and cumulatively sum up the `total` profits/losses and the `count` of actual trading days.\n",
    "trading_days=0\n",
    "total=0\n",
    "average=0\n",
    "maximum=0\n",
    "minimum=0\n",
    "profit_counter=0\n",
    "lost_counter=0\n",
    "profitable=[]\n",
    "unprofitable=[]\n",
    "#print(\"Number of trading days: \")\n",
    "#print(trading_days)\n",
    "\n",
    "for pnl in trading_pnl: \n",
    "    total = total + pnl\n",
    "# End Loop here ^\n",
    "\n",
    "\n",
    "#Use an if-else statement to calculate the `maximum` and `minimum` profit/loss values. In other words, find the numerical value of the best and worst trading days.\n",
    "\n",
    "for pnl in trading_pnl: \n",
    "    if pnl > maximum:\n",
    "        maximum = pnl\n",
    "    elif pnl < minimum or minimum==0:\n",
    "        minimum = pnl\n",
    "for profit in trading_pnl: \n",
    "    if profit > 0:\n",
    "        profit_counter= profit_counter+1\n",
    "        profitable.append(profit)\n",
    "    else:\n",
    "        lost_counter = lost_counter+1\n",
    "        unprofitable.append(profit)\n",
    "average = round(total/len(trading_pnl), 2)\n",
    "\n",
    "print(f\"Total profits and losses: {total}\")\n",
    "print()\n",
    "print(f\"Number of total trading days: {len(trading_pnl)}\")\n",
    "print()\n",
    "print(f\"Daily average profit and loss: {average}\")\n",
    "print()\n",
    "print(f\"Best gain: {maximum}\")\n",
    "print()\n",
    "print(f\"Worst lost: {minimum}\")\n",
    "print()\n",
    "print(f\"Profit days: {profit_counter}\")\n",
    "print()\n",
    "print(f\"Unprofitable days: {lost_counter}\")\n",
    "print()\n",
    "print(f\"List of profit: {profitable}\")\n",
    "print()\n",
    "print(f\"List of unprofit: {unprofitable}\")\n",
    "print()"
   ]
  },
  {
   "cell_type": "code",
   "execution_count": null,
   "id": "978beb45-a172-4dd9-8405-cf5077158175",
   "metadata": {},
   "outputs": [],
   "source": []
  }
 ],
 "metadata": {
  "kernelspec": {
   "display_name": "Python 3",
   "language": "python",
   "name": "python3"
  },
  "language_info": {
   "codemirror_mode": {
    "name": "ipython",
    "version": 3
   },
   "file_extension": ".py",
   "mimetype": "text/x-python",
   "name": "python",
   "nbconvert_exporter": "python",
   "pygments_lexer": "ipython3",
   "version": "3.8.5"
  }
 },
 "nbformat": 4,
 "nbformat_minor": 5
}
