{
 "cells": [
  {
   "cell_type": "code",
   "execution_count": 8,
   "id": "6e5316c3-94ce-402a-9e54-bd5a6dffb530",
   "metadata": {},
   "outputs": [
    {
     "name": "stdout",
     "output_type": "stream",
     "text": [
      "First Year: 0.5517241379310345\n",
      "Second Year: 0.24568219780609946\n",
      "Third Year: 0.1856311014966876\n"
     ]
    }
   ],
   "source": [
    "# Declare a variable beginning_balance as a float\n",
    "beginning_balance = 29000.00\n",
    "\n",
    "# Declare a variable ending_balance as float\n",
    "ending_balance = 45000.00\n",
    "\n",
    "# Declare a variable years as an float\n",
    "years = 1.0\n",
    "\n",
    "# Define a function called calculate_compound_growth_rate with three arguments: beginning_balance, ending_balance, years. Function should output growth_rate.\n",
    "\n",
    "def calculate_compound_growth_rate(beginning_balance, ending_balance, years):\n",
    "    growth_rate = ((ending_balance/beginning_balance)**(1/years))-1\n",
    "    \n",
    "    return growth_rate \n",
    "\n",
    "# Call calculate_compound_growth_rate using beginning_balance, ending_balance, and years. Capture as year_one_growth\n",
    "\n",
    "print(f\"First Year: {calculate_compound_growth_rate(beginning_balance, ending_balance, 1)}\")\n",
    "\n",
    "# Call calculate_compound_growth_rate using beginning_balance, ending_balance, and years. Capture as year_two_growth.\n",
    "\n",
    "print(f\"Second Year: {calculate_compound_growth_rate(beginning_balance, ending_balance, 2)}\")\n",
    "\n",
    "# Update beginning_balance and ending balance for year three, and then execute calculate_compound_growth_rate\n",
    "beginning_balance = 30000.00\n",
    "ending_balance = 50000.00\n",
    "years=3\n",
    "print(f\"Third Year: {calculate_compound_growth_rate(beginning_balance, ending_balance, 3)}\")\n",
    "\n"
   ]
  },
  {
   "cell_type": "code",
   "execution_count": 4,
   "id": "4a2e49e1-369c-48c1-b612-05233ce314aa",
   "metadata": {},
   "outputs": [
    {
     "name": "stdout",
     "output_type": "stream",
     "text": [
      "Growth rates:  {2016: 0.5517241379310345, 2017: 0.021980647783726104, 2018: 0.013504744157719184}\n"
     ]
    }
   ],
   "source": [
    "# Challenge\n",
    "\n",
    "# Create a global, empty list\n",
    "growth_rates_dict = {}\n",
    "a = 0\n",
    "# Define a function called\n",
    "def calculate_compound_growth_rate_dict (beginning_balance, ending_balance, elapst, years):\n",
    "    growth_rates = ((ending_balance/beginning_balance)**(1/elapst))-1\n",
    "    growth_rates_dict [years] = growth_rates \n",
    "    return a \n",
    "\n",
    "    # Populate growth_rates list using add() function\n",
    "\n",
    "\n",
    "# Call calculate_compound_growth_rate_list and populate growth_rates with 2016 values (beginning_balance and ending_balance)\n",
    "beginning_balance = 29000.00\n",
    "ending_balance = 45000.00\n",
    "calculate_compound_growth_rate_dict(beginning_balance, ending_balance, 1, 2016)\n",
    "\n",
    "# Call calculate_compound_growth_rate_list and populate growth_rates with 2017 values (beginning_balance and ending_balance)\n",
    "beginning_balance = 45000.00\n",
    "ending_balance = 47000.00\n",
    "calculate_compound_growth_rate_dict(beginning_balance, ending_balance, 2, 2017)\n",
    "\n",
    "# Call calculate_compound_growth_rate_list and populate growth_rates with 2018 values (beginning_balance and ending_balance)\n",
    "beginning_balance = 47000.00\n",
    "ending_balance = 48930.00\n",
    "calculate_compound_growth_rate_dict(beginning_balance, ending_balance, 3, 2018)\n",
    "\n",
    "# Print growth_rates list\n",
    "print(\"Growth rates: \", growth_rates_dict)"
   ]
  },
  {
   "cell_type": "code",
   "execution_count": null,
   "id": "1820b6c7-00a1-464c-b729-9624792793ed",
   "metadata": {},
   "outputs": [],
   "source": []
  }
 ],
 "metadata": {
  "kernelspec": {
   "display_name": "Python 3",
   "language": "python",
   "name": "python3"
  },
  "language_info": {
   "codemirror_mode": {
    "name": "ipython",
    "version": 3
   },
   "file_extension": ".py",
   "mimetype": "text/x-python",
   "name": "python",
   "nbconvert_exporter": "python",
   "pygments_lexer": "ipython3",
   "version": "3.8.5"
  }
 },
 "nbformat": 4,
 "nbformat_minor": 5
}
