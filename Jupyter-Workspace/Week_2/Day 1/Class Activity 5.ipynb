{
 "cells": [
  {
   "cell_type": "code",
   "execution_count": 16,
   "id": "baec6041-6f4a-4683-8e67-7d3b6eb539a0",
   "metadata": {},
   "outputs": [
    {
     "name": "stdout",
     "output_type": "stream",
     "text": [
      "Original Price:\n",
      "360.35\n",
      "Increase:\n",
      "-167.02\n",
      "Increase Percentage\n",
      "-46.34938254474817\n",
      "Recomendation\n",
      "Slow down and watch for now\n"
     ]
    }
   ],
   "source": [
    "# Variables:\n",
    "original_price=360.35\n",
    "current_price=193.33\n",
    "balance=400\n",
    "\n",
    "threshold_to_buy=-20\n",
    "threshold_to_sell=20\n",
    "\n",
    "increase=current_price-original_price\n",
    "percent_increase =(increase / original_price) * 100\n",
    "\n",
    "print (\"Original Price:\")\n",
    "print (original_price)\n",
    "print (\"Increase:\")\n",
    "print (increase)\n",
    "print (\"Increase Percentage\")\n",
    "print (percent_increase)\n",
    "\n",
    "#logic\n",
    "if percent_increase >= threshold_to_sell:\n",
    "    recomendation=\"Sell\"\n",
    "    print(\"Recomendation\")\n",
    "    print(recomendation)\n",
    "elif percent_increase <= threshold_to_sell and percent_increase>=threshold_to_buy:\n",
    "    recomendation=\"Hold\"\n",
    "    print(\"Recomendation\")\n",
    "    print(recomendation)\n",
    "elif percent_increase <= threshold_to_buy and balance <= 5*current_price:\n",
    "    recomendation=\"Slow down and watch for now\"\n",
    "    print(\"Recomendation\")\n",
    "    print(recomendation)\n",
    "else:    \n",
    "    recomendation=\"Buy\"\n",
    "    print(\"Recomendation\")\n",
    "    print(recomendation)"
   ]
  },
  {
   "cell_type": "code",
   "execution_count": null,
   "id": "b5c1eca9-bf03-4161-8783-c3caa2fa1225",
   "metadata": {},
   "outputs": [],
   "source": []
  }
 ],
 "metadata": {
  "kernelspec": {
   "display_name": "Python 3",
   "language": "python",
   "name": "python3"
  },
  "language_info": {
   "codemirror_mode": {
    "name": "ipython",
    "version": 3
   },
   "file_extension": ".py",
   "mimetype": "text/x-python",
   "name": "python",
   "nbconvert_exporter": "python",
   "pygments_lexer": "ipython3",
   "version": "3.8.5"
  }
 },
 "nbformat": 4,
 "nbformat_minor": 5
}
