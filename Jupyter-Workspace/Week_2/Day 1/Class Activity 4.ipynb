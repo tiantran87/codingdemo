{
 "cells": [
  {
   "cell_type": "code",
   "execution_count": 7,
   "id": "8bded509-b505-47a2-a77d-670cf44ad54f",
   "metadata": {},
   "outputs": [
    {
     "name": "stdout",
     "output_type": "stream",
     "text": [
      "C\n",
      "h\n",
      "e\n",
      "e\n",
      "r\n",
      "!\n",
      "!\n",
      "!\n"
     ]
    }
   ],
   "source": [
    "# Variable\n",
    "x= \"Cheer!!!\"\n",
    "# FOR loop\n",
    "for y in x:\n",
    "    print(y)"
   ]
  },
  {
   "cell_type": "code",
   "execution_count": null,
   "id": "7f2effb0-2e64-4576-8b27-628c97cded1b",
   "metadata": {},
   "outputs": [],
   "source": [
    "x=\"Cheer!!!\"\n",
    "\n",
    "run = \"y\"\n",
    "\n",
    "while run == \"y\":\n",
    "    print(\"Enter your name:\")\n",
    "    y=input(\"To run again. Enter 'y' \" )\n",
    "    # print (x)\n",
    "\n",
    "    "
   ]
  },
  {
   "cell_type": "code",
   "execution_count": null,
   "id": "b2da8574-c117-44c9-a3b7-3809985dd809",
   "metadata": {},
   "outputs": [],
   "source": []
  }
 ],
 "metadata": {
  "kernelspec": {
   "display_name": "Python 3",
   "language": "python",
   "name": "python3"
  },
  "language_info": {
   "codemirror_mode": {
    "name": "ipython",
    "version": 3
   },
   "file_extension": ".py",
   "mimetype": "text/x-python",
   "name": "python",
   "nbconvert_exporter": "python",
   "pygments_lexer": "ipython3",
   "version": "3.8.5"
  }
 },
 "nbformat": 4,
 "nbformat_minor": 5
}
