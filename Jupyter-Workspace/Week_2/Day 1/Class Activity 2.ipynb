{
 "cells": [
  {
   "cell_type": "code",
   "execution_count": 30,
   "id": "1609e0ec-d656-4e68-941d-e2e70028c096",
   "metadata": {},
   "outputs": [
    {
     "name": "stdout",
     "output_type": "stream",
     "text": [
      "198.87\n",
      "55.44999999999999\n",
      "Percentage increase: 27.882536330265996%\n"
     ]
    }
   ],
   "source": [
    "# Current Variables\n",
    "original_price=198.87\n",
    "current_price=254.32\n",
    "increase=current_price-original_price\n",
    "percent_increase = f\"Percentage increase: {(increase / original_price) * 100}%\"\n",
    "\n",
    "# Message\n",
    "print (original_price)\n",
    "print (increase)\n",
    "print (percent_increase)"
   ]
  },
  {
   "cell_type": "code",
   "execution_count": null,
   "id": "6ceb60b4-8aec-4081-b991-74fbbfa485bd",
   "metadata": {},
   "outputs": [],
   "source": []
  }
 ],
 "metadata": {
  "kernelspec": {
   "display_name": "Python 3",
   "language": "python",
   "name": "python3"
  },
  "language_info": {
   "codemirror_mode": {
    "name": "ipython",
    "version": 3
   },
   "file_extension": ".py",
   "mimetype": "text/x-python",
   "name": "python",
   "nbconvert_exporter": "python",
   "pygments_lexer": "ipython3",
   "version": "3.8.5"
  }
 },
 "nbformat": 4,
 "nbformat_minor": 5
}
